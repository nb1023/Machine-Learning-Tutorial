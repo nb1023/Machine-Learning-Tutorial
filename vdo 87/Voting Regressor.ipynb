{
 "cells": [
  {
   "cell_type": "code",
   "execution_count": 2,
   "id": "59c08d2a",
   "metadata": {},
   "outputs": [],
   "source": [
    "from sklearn.datasets import load_diabetes\n",
    "import numpy as np"
   ]
  },
  {
   "cell_type": "code",
   "execution_count": 3,
   "id": "cfe58dc4",
   "metadata": {},
   "outputs": [],
   "source": [
    "X,y = load_diabetes(return_X_y=True)"
   ]
  },
  {
   "cell_type": "code",
   "execution_count": 5,
   "id": "b5ba9167",
   "metadata": {},
   "outputs": [
    {
     "data": {
      "text/plain": [
       "(442, 10)"
      ]
     },
     "execution_count": 5,
     "metadata": {},
     "output_type": "execute_result"
    }
   ],
   "source": [
    "X.shape"
   ]
  },
  {
   "cell_type": "code",
   "execution_count": 6,
   "id": "5025303b",
   "metadata": {},
   "outputs": [
    {
     "data": {
      "text/plain": [
       "(442,)"
      ]
     },
     "execution_count": 6,
     "metadata": {},
     "output_type": "execute_result"
    }
   ],
   "source": [
    "y.shape"
   ]
  },
  {
   "cell_type": "code",
   "execution_count": 8,
   "id": "78563410",
   "metadata": {},
   "outputs": [],
   "source": [
    "from sklearn.linear_model import LinearRegression\n",
    "from sklearn.tree import DecisionTreeRegressor\n",
    "from sklearn.svm import SVR\n",
    "from sklearn.model_selection import cross_val_score"
   ]
  },
  {
   "cell_type": "code",
   "execution_count": 11,
   "id": "9abd7aab",
   "metadata": {},
   "outputs": [],
   "source": [
    "lr = LinearRegression()\n",
    "dt = DecisionTreeRegressor()\n",
    "svr = SVR()"
   ]
  },
  {
   "cell_type": "code",
   "execution_count": 12,
   "id": "8ba16bb0",
   "metadata": {},
   "outputs": [],
   "source": [
    "estimators = [('lr', lr), ('dt',dt), ('svr',svr)]"
   ]
  },
  {
   "cell_type": "code",
   "execution_count": 13,
   "id": "1fdc0d7a",
   "metadata": {},
   "outputs": [
    {
     "name": "stdout",
     "output_type": "stream",
     "text": [
      "lr 0.46\n",
      "dt -0.25\n",
      "svr 0.15\n"
     ]
    }
   ],
   "source": [
    "for estimator in estimators:\n",
    "    scores = cross_val_score(estimator[1],X,y,scoring='r2',cv=10)\n",
    "    print(estimator[0], np.round(np.mean(scores),2))"
   ]
  },
  {
   "cell_type": "code",
   "execution_count": 14,
   "id": "98da4e54",
   "metadata": {},
   "outputs": [],
   "source": [
    "from sklearn.ensemble import VotingRegressor"
   ]
  },
  {
   "cell_type": "code",
   "execution_count": 15,
   "id": "817f9869",
   "metadata": {},
   "outputs": [
    {
     "name": "stdout",
     "output_type": "stream",
     "text": [
      "Voting Regressor 0.15\n"
     ]
    }
   ],
   "source": [
    "vr = VotingRegressor(estimators)\n",
    "score = cross_val_score(vr, X,y, scoring='r2', cv=10)\n",
    "print(\"Voting Regressor\", np.round(np.mean(scores),2))"
   ]
  },
  {
   "cell_type": "code",
   "execution_count": 16,
   "id": "5dac2105",
   "metadata": {},
   "outputs": [
    {
     "name": "stdout",
     "output_type": "stream",
     "text": [
      "For i=1, j=1,k=1 0.15\n",
      "For i=1, j=1,k=2 0.15\n",
      "For i=1, j=1,k=3 0.15\n",
      "For i=1, j=2,k=1 0.15\n",
      "For i=1, j=2,k=2 0.15\n",
      "For i=1, j=2,k=3 0.15\n",
      "For i=1, j=3,k=1 0.15\n",
      "For i=1, j=3,k=2 0.15\n",
      "For i=1, j=3,k=3 0.15\n",
      "For i=2, j=1,k=1 0.15\n",
      "For i=2, j=1,k=2 0.15\n",
      "For i=2, j=1,k=3 0.15\n",
      "For i=2, j=2,k=1 0.15\n",
      "For i=2, j=2,k=2 0.15\n",
      "For i=2, j=2,k=3 0.15\n",
      "For i=2, j=3,k=1 0.15\n",
      "For i=2, j=3,k=2 0.15\n",
      "For i=2, j=3,k=3 0.15\n",
      "For i=3, j=1,k=1 0.15\n",
      "For i=3, j=1,k=2 0.15\n",
      "For i=3, j=1,k=3 0.15\n",
      "For i=3, j=2,k=1 0.15\n",
      "For i=3, j=2,k=2 0.15\n",
      "For i=3, j=2,k=3 0.15\n",
      "For i=3, j=3,k=1 0.15\n",
      "For i=3, j=3,k=2 0.15\n",
      "For i=3, j=3,k=3 0.15\n"
     ]
    }
   ],
   "source": [
    "for i in range(1,4):\n",
    "    for j in range(1,4):\n",
    "        for k in range(1,4):\n",
    "            vr = VotingRegressor(estimators, weights=[i,j,k])\n",
    "            score = cross_val_score(vr, X,y, scoring='r2', cv=10)\n",
    "            print(\"For i={}, j={},k={}\".format(i,j,k), np.round(np.mean(scores),2))"
   ]
  },
  {
   "cell_type": "code",
   "execution_count": 17,
   "id": "c7ecba4c",
   "metadata": {},
   "outputs": [],
   "source": [
    "dt1 = DecisionTreeRegressor(max_depth=1)\n",
    "dt2 = DecisionTreeRegressor(max_depth=3)\n",
    "dt3 = DecisionTreeRegressor(max_depth=5)\n",
    "dt4 = DecisionTreeRegressor(max_depth=7)\n",
    "dt5 = DecisionTreeRegressor(max_depth=None)"
   ]
  },
  {
   "cell_type": "code",
   "execution_count": 18,
   "id": "48971008",
   "metadata": {},
   "outputs": [],
   "source": [
    "estimators = [('dt1',dt1), ('dt2',dt2),('dt3',dt3),('dt4',dt4),('dt5',dt5)]"
   ]
  },
  {
   "cell_type": "code",
   "execution_count": 21,
   "id": "e07f3c08",
   "metadata": {},
   "outputs": [
    {
     "name": "stdout",
     "output_type": "stream",
     "text": [
      "dt1 0.15\n",
      "dt2 0.29\n",
      "dt3 0.16\n",
      "dt4 -0.07\n",
      "dt5 -0.23\n"
     ]
    }
   ],
   "source": [
    "for estimator in estimators:\n",
    "    scores = cross_val_score(estimator[1], X,y, scoring='r2',cv=10)\n",
    "    print(estimator[0], np.round(np.mean(scores),2))"
   ]
  },
  {
   "cell_type": "code",
   "execution_count": 22,
   "id": "f21c0dfa",
   "metadata": {},
   "outputs": [
    {
     "name": "stdout",
     "output_type": "stream",
     "text": [
      "Voting Regressor 0.22\n"
     ]
    }
   ],
   "source": [
    "vr = VotingRegressor(estimators)\n",
    "scores = cross_val_score(vr,X,y,scoring='r2',cv=10)\n",
    "print(\"Voting Regressor\", np.round(np.mean(scores),2))"
   ]
  }
 ],
 "metadata": {
  "kernelspec": {
   "display_name": "Python 3 (ipykernel)",
   "language": "python",
   "name": "python3"
  },
  "language_info": {
   "codemirror_mode": {
    "name": "ipython",
    "version": 3
   },
   "file_extension": ".py",
   "mimetype": "text/x-python",
   "name": "python",
   "nbconvert_exporter": "python",
   "pygments_lexer": "ipython3",
   "version": "3.11.4"
  }
 },
 "nbformat": 4,
 "nbformat_minor": 5
}
